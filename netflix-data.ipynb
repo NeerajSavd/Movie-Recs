{
 "cells": [
  {
   "cell_type": "markdown",
   "metadata": {},
   "source": [
    "# Netflix"
   ]
  },
  {
   "cell_type": "code",
   "execution_count": 1,
   "metadata": {
    "execution": {
     "iopub.execute_input": "2023-08-16T19:17:27.025209Z",
     "iopub.status.busy": "2023-08-16T19:17:27.024611Z",
     "iopub.status.idle": "2023-08-16T19:17:27.169058Z",
     "shell.execute_reply": "2023-08-16T19:17:27.168173Z",
     "shell.execute_reply.started": "2023-08-16T19:17:27.025173Z"
    },
    "trusted": true
   },
   "outputs": [],
   "source": [
    "import os\n",
    "import math\n",
    "import numpy as np\n",
    "import time\n",
    "import matplotlib.pyplot as plt\n",
    "import pandas as pd\n",
    "from surprise import Reader, Dataset, SVD\n",
    "from surprise.model_selection import cross_validate\n",
    "from collections import deque\n",
    "\n",
    "seed = 1234\n",
    "np.random.seed(seed)"
   ]
  },
  {
   "cell_type": "markdown",
   "metadata": {},
   "source": [
    "## Data Reading"
   ]
  },
  {
   "cell_type": "code",
   "execution_count": 2,
   "metadata": {
    "execution": {
     "iopub.execute_input": "2023-08-16T19:17:27.171469Z",
     "iopub.status.busy": "2023-08-16T19:17:27.171060Z",
     "iopub.status.idle": "2023-08-16T19:17:47.112903Z",
     "shell.execute_reply": "2023-08-16T19:17:47.111798Z",
     "shell.execute_reply.started": "2023-08-16T19:17:27.171428Z"
    },
    "trusted": true
   },
   "outputs": [
    {
     "name": "stdout",
     "output_type": "stream",
     "text": [
      "Dataset 1 shape: (24058263, 2)\n"
     ]
    }
   ],
   "source": [
    "df1 = pd.read_csv('../input/netflix-prize-data/combined_data_1.txt', header=None, names=['User', 'Rating'], usecols=[0,1])\n",
    "df1['Rating'] = df1['Rating'].astype(float)\n",
    "print('Dataset 1 shape: {}'.format(df1.shape))\n",
    "df = df1"
   ]
  },
  {
   "cell_type": "code",
   "execution_count": 3,
   "metadata": {
    "execution": {
     "iopub.execute_input": "2023-08-16T19:17:47.114946Z",
     "iopub.status.busy": "2023-08-16T19:17:47.114184Z",
     "iopub.status.idle": "2023-08-16T19:18:52.393682Z",
     "shell.execute_reply": "2023-08-16T19:18:52.392566Z",
     "shell.execute_reply.started": "2023-08-16T19:17:47.114905Z"
    },
    "trusted": true
   },
   "outputs": [
    {
     "name": "stdout",
     "output_type": "stream",
     "text": [
      "Full dataset shape: (100498277, 2)\n"
     ]
    }
   ],
   "source": [
    "df2 = pd.read_csv('../input/netflix-prize-data/combined_data_2.txt', header=None, names=['User', 'Rating'], usecols=[0,1])\n",
    "df3 = pd.read_csv('../input/netflix-prize-data/combined_data_3.txt', header=None, names=['User', 'Rating'], usecols=[0,1])\n",
    "df4 = pd.read_csv('../input/netflix-prize-data/combined_data_4.txt', header=None, names=['User', 'Rating'], usecols=[0,1])\n",
    "df2['Rating'] = df2['Rating'].astype(float)\n",
    "df3['Rating'] = df3['Rating'].astype(float)\n",
    "df4['Rating'] = df4['Rating'].astype(float)\n",
    "\n",
    "df = pd.concat([df1, df2, df3, df4])\n",
    "\n",
    "df.index = np.arange(0,len(df))\n",
    "print('Full dataset shape: {}'.format(df.shape))"
   ]
  },
  {
   "cell_type": "code",
   "execution_count": 4,
   "metadata": {
    "execution": {
     "iopub.execute_input": "2023-08-16T19:18:52.396296Z",
     "iopub.status.busy": "2023-08-16T19:18:52.395978Z",
     "iopub.status.idle": "2023-08-16T19:19:14.887971Z",
     "shell.execute_reply": "2023-08-16T19:19:14.886965Z",
     "shell.execute_reply.started": "2023-08-16T19:18:52.396268Z"
    },
    "trusted": true
   },
   "outputs": [
    {
     "name": "stdout",
     "output_type": "stream",
     "text": [
      "Shape User-Ratings:\t(100480507, 3)\n"
     ]
    },
    {
     "data": {
      "text/html": [
       "<div>\n",
       "<style scoped>\n",
       "    .dataframe tbody tr th:only-of-type {\n",
       "        vertical-align: middle;\n",
       "    }\n",
       "\n",
       "    .dataframe tbody tr th {\n",
       "        vertical-align: top;\n",
       "    }\n",
       "\n",
       "    .dataframe thead th {\n",
       "        text-align: right;\n",
       "    }\n",
       "</style>\n",
       "<table border=\"1\" class=\"dataframe\">\n",
       "  <thead>\n",
       "    <tr style=\"text-align: right;\">\n",
       "      <th></th>\n",
       "      <th>User</th>\n",
       "      <th>Rating</th>\n",
       "      <th>Movie</th>\n",
       "    </tr>\n",
       "  </thead>\n",
       "  <tbody>\n",
       "    <tr>\n",
       "      <th>69976929</th>\n",
       "      <td>1064587</td>\n",
       "      <td>5.0</td>\n",
       "      <td>12675</td>\n",
       "    </tr>\n",
       "    <tr>\n",
       "      <th>61414863</th>\n",
       "      <td>1587376</td>\n",
       "      <td>3.0</td>\n",
       "      <td>11184</td>\n",
       "    </tr>\n",
       "    <tr>\n",
       "      <th>79617643</th>\n",
       "      <td>1301583</td>\n",
       "      <td>4.0</td>\n",
       "      <td>14382</td>\n",
       "    </tr>\n",
       "    <tr>\n",
       "      <th>40298114</th>\n",
       "      <td>2457206</td>\n",
       "      <td>5.0</td>\n",
       "      <td>7155</td>\n",
       "    </tr>\n",
       "    <tr>\n",
       "      <th>21571233</th>\n",
       "      <td>809832</td>\n",
       "      <td>3.0</td>\n",
       "      <td>4055</td>\n",
       "    </tr>\n",
       "  </tbody>\n",
       "</table>\n",
       "</div>"
      ],
      "text/plain": [
       "             User  Rating  Movie\n",
       "69976929  1064587     5.0  12675\n",
       "61414863  1587376     3.0  11184\n",
       "79617643  1301583     4.0  14382\n",
       "40298114  2457206     5.0   7155\n",
       "21571233   809832     3.0   4055"
      ]
     },
     "execution_count": 4,
     "metadata": {},
     "output_type": "execute_result"
    }
   ],
   "source": [
    "tmp_movies = df[df['Rating'].isna()]['User'].reset_index()\n",
    "movie_indices = [[index, int(movie[:-1])] for index, movie in tmp_movies.values]\n",
    "shifted_movie_indices = deque(movie_indices)\n",
    "shifted_movie_indices.rotate(-1)\n",
    "\n",
    "user_data = []\n",
    "for [df_id_1, movie_id], [df_id_2, next_movie_id] in zip(movie_indices, shifted_movie_indices):\n",
    "    if df_id_1 < df_id_2:\n",
    "        tmp_df = df.loc[df_id_1+1:df_id_2-1].copy()\n",
    "    else:\n",
    "        tmp_df = df.loc[df_id_1+1:].copy()\n",
    "    tmp_df['Movie'] = movie_id\n",
    "    user_data.append(tmp_df)\n",
    "\n",
    "df = pd.concat(user_data)\n",
    "del user_data, tmp_movies, tmp_df, shifted_movie_indices, movie_indices, df_id_1, movie_id, df_id_2, next_movie_id\n",
    "print('Shape User-Ratings:\\t{}'.format(df.shape))\n",
    "df.sample(5)"
   ]
  },
  {
   "cell_type": "code",
   "execution_count": 5,
   "metadata": {
    "execution": {
     "iopub.execute_input": "2023-08-16T19:19:14.891055Z",
     "iopub.status.busy": "2023-08-16T19:19:14.890711Z",
     "iopub.status.idle": "2023-08-16T19:20:40.686684Z",
     "shell.execute_reply": "2023-08-16T19:20:40.685244Z",
     "shell.execute_reply.started": "2023-08-16T19:19:14.891028Z"
    },
    "trusted": true
   },
   "outputs": [
    {
     "name": "stdout",
     "output_type": "stream",
     "text": [
      "Shape User-Ratings unfiltered:\t(100480507, 3)\n",
      "Shape User-Ratings filtered:\t(72868166, 3)\n"
     ]
    }
   ],
   "source": [
    "# 2000, 20\n",
    "min_movie_ratings = 2000\n",
    "filter_movies = (df['Movie'].value_counts()>min_movie_ratings)\n",
    "filter_movies = filter_movies[filter_movies].index.tolist()\n",
    "\n",
    "min_user_ratings = 200\n",
    "filter_users = (df['User'].value_counts()>min_user_ratings)\n",
    "filter_users = filter_users[filter_users].index.tolist()\n",
    "\n",
    "df_filtered = df[(df['Movie'].isin(filter_movies)) & (df['User'].isin(filter_users))]\n",
    "del filter_movies, filter_users, min_movie_ratings, min_user_ratings\n",
    "print('Shape User-Ratings unfiltered:\\t{}'.format(df.shape))\n",
    "print('Shape User-Ratings filtered:\\t{}'.format(df_filtered.shape))"
   ]
  },
  {
   "cell_type": "code",
   "execution_count": 6,
   "metadata": {
    "execution": {
     "iopub.execute_input": "2023-08-16T19:20:40.689376Z",
     "iopub.status.busy": "2023-08-16T19:20:40.689004Z",
     "iopub.status.idle": "2023-08-16T19:20:41.667544Z",
     "shell.execute_reply": "2023-08-16T19:20:41.666532Z",
     "shell.execute_reply.started": "2023-08-16T19:20:40.689337Z"
    },
    "trusted": true
   },
   "outputs": [
    {
     "name": "stdout",
     "output_type": "stream",
     "text": [
      "Number of unique movies unfiltered: 17770\n",
      "Number of unique movies filtered: 5264\n"
     ]
    }
   ],
   "source": [
    "print(\"Number of unique movies unfiltered:\", df['Movie'].nunique())\n",
    "print(\"Number of unique movies filtered:\", df_filtered['Movie'].nunique())"
   ]
  },
  {
   "cell_type": "code",
   "execution_count": 7,
   "metadata": {
    "execution": {
     "iopub.execute_input": "2023-08-16T19:20:41.669282Z",
     "iopub.status.busy": "2023-08-16T19:20:41.668981Z",
     "iopub.status.idle": "2023-08-16T19:23:30.079693Z",
     "shell.execute_reply": "2023-08-16T19:23:30.078854Z",
     "shell.execute_reply.started": "2023-08-16T19:20:41.669254Z"
    },
    "trusted": true
   },
   "outputs": [
    {
     "name": "stdout",
     "output_type": "stream",
     "text": [
      "(150245, 5264)\n"
     ]
    }
   ],
   "source": [
    "df_p = df_filtered.pivot_table(values='Rating',index='User',columns='Movie')\n",
    "print(df_p.shape)"
   ]
  },
  {
   "cell_type": "code",
   "execution_count": 8,
   "metadata": {
    "execution": {
     "iopub.execute_input": "2023-08-16T19:23:30.082002Z",
     "iopub.status.busy": "2023-08-16T19:23:30.081451Z",
     "iopub.status.idle": "2023-08-16T19:23:30.141764Z",
     "shell.execute_reply": "2023-08-16T19:23:30.140659Z",
     "shell.execute_reply.started": "2023-08-16T19:23:30.081968Z"
    },
    "trusted": true
   },
   "outputs": [
    {
     "name": "stdout",
     "output_type": "stream",
     "text": [
      "Shape Movie-Titles:\t(17770, 2)\n"
     ]
    },
    {
     "data": {
      "text/html": [
       "<div>\n",
       "<style scoped>\n",
       "    .dataframe tbody tr th:only-of-type {\n",
       "        vertical-align: middle;\n",
       "    }\n",
       "\n",
       "    .dataframe tbody tr th {\n",
       "        vertical-align: top;\n",
       "    }\n",
       "\n",
       "    .dataframe thead th {\n",
       "        text-align: right;\n",
       "    }\n",
       "</style>\n",
       "<table border=\"1\" class=\"dataframe\">\n",
       "  <thead>\n",
       "    <tr style=\"text-align: right;\">\n",
       "      <th></th>\n",
       "      <th>Year</th>\n",
       "      <th>Name</th>\n",
       "    </tr>\n",
       "    <tr>\n",
       "      <th>Id</th>\n",
       "      <th></th>\n",
       "      <th></th>\n",
       "    </tr>\n",
       "  </thead>\n",
       "  <tbody>\n",
       "    <tr>\n",
       "      <th>11967</th>\n",
       "      <td>1992.0</td>\n",
       "      <td>Batman: The Animated Series: The Legend Begins</td>\n",
       "    </tr>\n",
       "    <tr>\n",
       "      <th>712</th>\n",
       "      <td>1998.0</td>\n",
       "      <td>Homicide: Life on the Street: Season 7</td>\n",
       "    </tr>\n",
       "    <tr>\n",
       "      <th>4473</th>\n",
       "      <td>2002.0</td>\n",
       "      <td>Kermit's Swamp Years</td>\n",
       "    </tr>\n",
       "    <tr>\n",
       "      <th>9280</th>\n",
       "      <td>2004.0</td>\n",
       "      <td>Teacher's Pet</td>\n",
       "    </tr>\n",
       "    <tr>\n",
       "      <th>6508</th>\n",
       "      <td>2002.0</td>\n",
       "      <td>The Salton Sea</td>\n",
       "    </tr>\n",
       "  </tbody>\n",
       "</table>\n",
       "</div>"
      ],
      "text/plain": [
       "         Year                                            Name\n",
       "Id                                                           \n",
       "11967  1992.0  Batman: The Animated Series: The Legend Begins\n",
       "712    1998.0          Homicide: Life on the Street: Season 7\n",
       "4473   2002.0                            Kermit's Swamp Years\n",
       "9280   2004.0                                   Teacher's Pet\n",
       "6508   2002.0                                  The Salton Sea"
      ]
     },
     "execution_count": 8,
     "metadata": {},
     "output_type": "execute_result"
    }
   ],
   "source": [
    "movie_titles = pd.read_csv('../input/netflix-prize-data/movie_titles.csv', encoding = 'ISO-8859-1', usecols=range(3),\n",
    "                           header=None, names=['Id', 'Year', 'Name']).set_index('Id')\n",
    "print('Shape Movie-Titles:\\t{}'.format(movie_titles.shape))\n",
    "movie_titles.sample(5)"
   ]
  },
  {
   "cell_type": "code",
   "execution_count": 9,
   "metadata": {
    "execution": {
     "iopub.execute_input": "2023-08-16T19:23:30.144310Z",
     "iopub.status.busy": "2023-08-16T19:23:30.143651Z",
     "iopub.status.idle": "2023-08-16T19:23:30.178675Z",
     "shell.execute_reply": "2023-08-16T19:23:30.177850Z",
     "shell.execute_reply.started": "2023-08-16T19:23:30.144267Z"
    },
    "trusted": true
   },
   "outputs": [
    {
     "name": "stdout",
     "output_type": "stream",
     "text": [
      "         Year                        Name\n",
      "Id                                       \n",
      "3      1997.0                   Character\n",
      "8      2004.0  What the #$*! Do We Know!?\n",
      "16     1996.0                   Screamers\n",
      "17     2005.0                   7 Seconds\n",
      "18     1994.0            Immortal Beloved\n",
      "...       ...                         ...\n",
      "17758  1979.0                    Prophecy\n",
      "17761  2003.0                      Levity\n",
      "17762  1997.0                     Gattaca\n",
      "17764  1998.0         Shakespeare in Love\n",
      "17769  2003.0                 The Company\n",
      "\n",
      "[5264 rows x 2 columns]\n"
     ]
    }
   ],
   "source": [
    "filtered_movies = movie_titles.iloc[df_p.columns-1] #['Name']\n",
    "print(filtered_movies)\n",
    "filtered_movies.to_csv('movies.csv')"
   ]
  },
  {
   "cell_type": "markdown",
   "metadata": {},
   "source": [
    "## Pearson R Correlation"
   ]
  },
  {
   "cell_type": "code",
   "execution_count": 10,
   "metadata": {
    "execution": {
     "iopub.execute_input": "2023-08-16T19:23:30.182439Z",
     "iopub.status.busy": "2023-08-16T19:23:30.182107Z",
     "iopub.status.idle": "2023-08-16T19:23:35.299650Z",
     "shell.execute_reply": "2023-08-16T19:23:35.298861Z",
     "shell.execute_reply.started": "2023-08-16T19:23:30.182409Z"
    },
    "trusted": true
   },
   "outputs": [
    {
     "name": "stdout",
     "output_type": "stream",
     "text": [
      "For movie Lilo and Stitch\n",
      "Top 10 movies recommended: \n",
      " PearsonR                                  Name\n",
      " 1.000000                       Lilo and Stitch\n",
      " 0.479502                     Stitch! The Movie\n",
      " 0.458240                     Lilo and Stitch 2\n",
      " 0.427557           Rugrats in Paris: The Movie\n",
      " 0.395200                       Rugrats Go Wild\n",
      " 0.387868                      Oliver & Company\n",
      " 0.387045                              Hercules\n",
      " 0.383723         Scooby-Doo's Creepiest Capers\n",
      " 0.381166 Scooby-Doo and the Reluctant Werewolf\n",
      " 0.379675                     The Rugrats Movie\n"
     ]
    }
   ],
   "source": [
    "def recommend(movie_title):\n",
    "    print(\"For movie {}\".format(movie_title))\n",
    "    print(\"Top 10 movies recommended: \")\n",
    "    i = int(movie_titles.index[movie_titles['Name'] == movie_title][0])\n",
    "    target = df_p[i]\n",
    "    similar_to_target = df_p.corrwith(target)\n",
    "    corr_target = pd.DataFrame(similar_to_target, columns = ['PearsonR'])\n",
    "    corr_target.dropna(inplace = True)\n",
    "    corr_target = corr_target.sort_values('PearsonR', ascending = False)\n",
    "    corr_target.index = corr_target.index.map(int)\n",
    "    corr_target = corr_target.join(movie_titles)[['PearsonR', 'Name']]\n",
    "    print(corr_target[:10].to_string(index=False))\n",
    "\n",
    "recommend(\"Lilo and Stitch\")"
   ]
  },
  {
   "cell_type": "code",
   "execution_count": 11,
   "metadata": {
    "execution": {
     "iopub.execute_input": "2023-08-16T19:23:35.301497Z",
     "iopub.status.busy": "2023-08-16T19:23:35.300957Z",
     "iopub.status.idle": "2023-08-16T19:23:40.520625Z",
     "shell.execute_reply": "2023-08-16T19:23:40.519497Z",
     "shell.execute_reply.started": "2023-08-16T19:23:35.301466Z"
    },
    "trusted": true
   },
   "outputs": [
    {
     "name": "stdout",
     "output_type": "stream",
     "text": [
      "For movie Superman: The Movie\n",
      "Top 10 movies recommended: \n",
      " PearsonR                             Name\n",
      " 1.000000              Superman: The Movie\n",
      " 0.639680                      Superman II\n",
      " 0.476632                     Superman III\n",
      " 0.405939           The Karate Kid Part II\n",
      " 0.403611 Superman IV: The Quest for Peace\n",
      " 0.391602                            Benji\n",
      " 0.385704       Herbie Goes to Monte Carlo\n",
      " 0.385315        The Batman Superman Movie\n",
      " 0.383454             The Towering Inferno\n",
      " 0.381919                           Batman\n"
     ]
    }
   ],
   "source": [
    "recommend(\"Superman: The Movie\")"
   ]
  },
  {
   "cell_type": "code",
   "execution_count": 12,
   "metadata": {
    "execution": {
     "iopub.execute_input": "2023-08-16T19:23:40.522657Z",
     "iopub.status.busy": "2023-08-16T19:23:40.522243Z",
     "iopub.status.idle": "2023-08-16T19:23:40.528229Z",
     "shell.execute_reply": "2023-08-16T19:23:40.526929Z",
     "shell.execute_reply.started": "2023-08-16T19:23:40.522617Z"
    },
    "trusted": true
   },
   "outputs": [],
   "source": [
    "# predictions = {}\n",
    "# for i in df_p.columns:\n",
    "#     target = df_p[i]\n",
    "#     similar_to_target = df_p.corrwith(target)\n",
    "#     corr_target = pd.DataFrame(similar_to_target, columns = ['PearsonR'])\n",
    "#     corr_target.dropna(inplace = True)\n",
    "#     corr_target = corr_target.sort_values('PearsonR', ascending = False)\n",
    "#     corr_target.index = corr_target.index.map(int)\n",
    "#     predictions[i] = corr_target.index.values.tolist()[:50]\n",
    "#     if i%10==0:\n",
    "#         print(i)"
   ]
  },
  {
   "cell_type": "code",
   "execution_count": 13,
   "metadata": {
    "execution": {
     "iopub.execute_input": "2023-08-16T19:23:40.531152Z",
     "iopub.status.busy": "2023-08-16T19:23:40.530039Z",
     "iopub.status.idle": "2023-08-16T19:23:40.548242Z",
     "shell.execute_reply": "2023-08-16T19:23:40.547396Z",
     "shell.execute_reply.started": "2023-08-16T19:23:40.531043Z"
    },
    "trusted": true
   },
   "outputs": [],
   "source": [
    "# predictions = {k: v['Name'].tolist()[:10] for k,v in predictions.items()}\n",
    "# print(predictions[8]['Name'].tolist()[:10])"
   ]
  },
  {
   "cell_type": "code",
   "execution_count": 14,
   "metadata": {
    "execution": {
     "iopub.execute_input": "2023-08-16T19:23:40.550383Z",
     "iopub.status.busy": "2023-08-16T19:23:40.549475Z",
     "iopub.status.idle": "2023-08-16T19:23:40.561669Z",
     "shell.execute_reply": "2023-08-16T19:23:40.560929Z",
     "shell.execute_reply.started": "2023-08-16T19:23:40.550339Z"
    },
    "trusted": true
   },
   "outputs": [],
   "source": [
    "# p = pd.DataFrame.from_dict(predictions, orient='index')\n",
    "# p.to_csv('predictions.csv')\n",
    "# df_p.to_csv('df.csv')"
   ]
  },
  {
   "cell_type": "markdown",
   "metadata": {},
   "source": [
    "## Matrix Factorization"
   ]
  },
  {
   "cell_type": "code",
   "execution_count": null,
   "metadata": {},
   "outputs": [],
   "source": [
    "# import surprise as sp\n",
    "# from surprise.model_selection import cross_validate\n",
    "# data = sp.Dataset.load_from_df(df_filterd[['User', 'Movie', 'Rating']].sample(20000), sp.Reader())"
   ]
  },
  {
   "cell_type": "code",
   "execution_count": 15,
   "metadata": {
    "execution": {
     "iopub.execute_input": "2023-08-16T19:26:55.679656Z",
     "iopub.status.busy": "2023-08-16T19:26:55.678607Z",
     "iopub.status.idle": "2023-08-16T19:26:55.684203Z",
     "shell.execute_reply": "2023-08-16T19:26:55.683396Z",
     "shell.execute_reply.started": "2023-08-16T19:26:55.679618Z"
    },
    "trusted": true
   },
   "outputs": [],
   "source": [
    "import surprise as sp\n",
    "from surprise import Dataset, Reader, SVD\n",
    "from surprise.model_selection import train_test_split\n",
    "from surprise.accuracy import rmse"
   ]
  },
  {
   "cell_type": "code",
   "execution_count": 17,
   "metadata": {
    "execution": {
     "iopub.execute_input": "2023-08-16T19:28:27.461625Z",
     "iopub.status.busy": "2023-08-16T19:28:27.461239Z",
     "iopub.status.idle": "2023-08-16T19:28:34.768778Z",
     "shell.execute_reply": "2023-08-16T19:28:34.767651Z",
     "shell.execute_reply.started": "2023-08-16T19:28:27.461594Z"
    },
    "trusted": true
   },
   "outputs": [
    {
     "name": "stdout",
     "output_type": "stream",
     "text": [
      "RMSE: 1.0486\n",
      "RMSE: 1.048616410569879\n"
     ]
    }
   ],
   "source": [
    "dataset = sp.Dataset.load_from_df(df_filtered[['User', 'Movie', 'Rating']].sample(20000), sp.Reader())\n",
    "trainset, testset = train_test_split(dataset, test_size=0.2)\n",
    "model = SVD()\n",
    "model.fit(trainset)\n",
    "predictions = model.test(testset)\n",
    "rmse_score = rmse(predictions)\n",
    "print(\"RMSE:\", rmse_score)"
   ]
  },
  {
   "cell_type": "code",
   "execution_count": null,
   "metadata": {
    "execution": {
     "iopub.execute_input": "2023-08-16T19:34:23.275766Z",
     "iopub.status.busy": "2023-08-16T19:34:23.275404Z",
     "iopub.status.idle": "2023-08-16T19:34:23.281583Z",
     "shell.execute_reply": "2023-08-16T19:34:23.280458Z",
     "shell.execute_reply.started": "2023-08-16T19:34:23.275739Z"
    },
    "trusted": true
   },
   "outputs": [
    {
     "name": "stdout",
     "output_type": "stream",
     "text": [
      "user: 3          item: 290        r_ui = None   est = 3.71   {'was_impossible': False}\n"
     ]
    }
   ],
   "source": [
    "print(model.predict(3, 290))"
   ]
  }
 ],
 "metadata": {
  "kernelspec": {
   "display_name": "Python 3",
   "language": "python",
   "name": "python3"
  },
  "language_info": {
   "codemirror_mode": {
    "name": "ipython",
    "version": 3
   },
   "file_extension": ".py",
   "mimetype": "text/x-python",
   "name": "python",
   "nbconvert_exporter": "python",
   "pygments_lexer": "ipython3",
   "version": "3.10.12"
  }
 },
 "nbformat": 4,
 "nbformat_minor": 4
}
